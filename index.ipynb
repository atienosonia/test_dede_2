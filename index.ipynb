{
 "cells": [
  {
   "cell_type": "code",
   "execution_count": 1,
   "metadata": {},
   "outputs": [],
   "source": [
    "import pandas as pd\n",
    "\n",
    "import numpy as np\n",
    "\n",
    "import matplotlib.pyplot as plt"
   ]
  },
  {
   "cell_type": "code",
   "execution_count": 2,
   "metadata": {},
   "outputs": [
    {
     "data": {
      "text/html": [
       "<div>\n",
       "<style scoped>\n",
       "    .dataframe tbody tr th:only-of-type {\n",
       "        vertical-align: middle;\n",
       "    }\n",
       "\n",
       "    .dataframe tbody tr th {\n",
       "        vertical-align: top;\n",
       "    }\n",
       "\n",
       "    .dataframe thead th {\n",
       "        text-align: right;\n",
       "    }\n",
       "</style>\n",
       "<table border=\"1\" class=\"dataframe\">\n",
       "  <thead>\n",
       "    <tr style=\"text-align: right;\">\n",
       "      <th></th>\n",
       "      <th>filename</th>\n",
       "      <th>growth_stage</th>\n",
       "      <th>damage</th>\n",
       "      <th>extent</th>\n",
       "      <th>season</th>\n",
       "    </tr>\n",
       "  </thead>\n",
       "  <tbody>\n",
       "    <tr>\n",
       "      <th>0</th>\n",
       "      <td>L398F01276C01S07896Rp26856.jpg</td>\n",
       "      <td>F</td>\n",
       "      <td>DR</td>\n",
       "      <td>0</td>\n",
       "      <td>LR2021</td>\n",
       "    </tr>\n",
       "    <tr>\n",
       "      <th>1</th>\n",
       "      <td>L355F02268C02S08916Rp30595.jpg</td>\n",
       "      <td>F</td>\n",
       "      <td>DR</td>\n",
       "      <td>0</td>\n",
       "      <td>LR2021</td>\n",
       "    </tr>\n",
       "    <tr>\n",
       "      <th>2</th>\n",
       "      <td>L134F00879C39S14248Rp42482.jpg</td>\n",
       "      <td>F</td>\n",
       "      <td>DR</td>\n",
       "      <td>10</td>\n",
       "      <td>SR2021</td>\n",
       "    </tr>\n",
       "    <tr>\n",
       "      <th>3</th>\n",
       "      <td>L1095F01359C01S08260Rp24587.jpg</td>\n",
       "      <td>F</td>\n",
       "      <td>DR</td>\n",
       "      <td>10</td>\n",
       "      <td>LR2021</td>\n",
       "    </tr>\n",
       "    <tr>\n",
       "      <th>4</th>\n",
       "      <td>L134F00777C39S14171Rp45993.jpg</td>\n",
       "      <td>F</td>\n",
       "      <td>DR</td>\n",
       "      <td>10</td>\n",
       "      <td>SR2021</td>\n",
       "    </tr>\n",
       "  </tbody>\n",
       "</table>\n",
       "</div>"
      ],
      "text/plain": [
       "                          filename growth_stage damage  extent  season\n",
       "0   L398F01276C01S07896Rp26856.jpg            F     DR       0  LR2021\n",
       "1   L355F02268C02S08916Rp30595.jpg            F     DR       0  LR2021\n",
       "2   L134F00879C39S14248Rp42482.jpg            F     DR      10  SR2021\n",
       "3  L1095F01359C01S08260Rp24587.jpg            F     DR      10  LR2021\n",
       "4   L134F00777C39S14171Rp45993.jpg            F     DR      10  SR2021"
      ]
     },
     "execution_count": 2,
     "metadata": {},
     "output_type": "execute_result"
    }
   ],
   "source": [
    "def load_data(path):\n",
    "\n",
    "    data = pd.read_csv(path)\n",
    "    return data\n",
    "\n",
    "df = load_data(r'C:\\Users\\user\\Documents\\Project_Dede\\train (3).csv')\n",
    "df.head()"
   ]
  },
  {
   "cell_type": "code",
   "execution_count": null,
   "metadata": {},
   "outputs": [],
   "source": []
  }
 ],
 "metadata": {
  "kernelspec": {
   "display_name": "base",
   "language": "python",
   "name": "python3"
  },
  "language_info": {
   "codemirror_mode": {
    "name": "ipython",
    "version": 3
   },
   "file_extension": ".py",
   "mimetype": "text/x-python",
   "name": "python",
   "nbconvert_exporter": "python",
   "pygments_lexer": "ipython3",
   "version": "3.9.13"
  },
  "orig_nbformat": 4
 },
 "nbformat": 4,
 "nbformat_minor": 2
}
